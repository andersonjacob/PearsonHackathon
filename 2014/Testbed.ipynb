{
 "metadata": {
  "name": ""
 },
 "nbformat": 3,
 "nbformat_minor": 0,
 "worksheets": [
  {
   "cells": [
    {
     "cell_type": "code",
     "collapsed": false,
     "input": [
      "import numpy as np\n",
      "import matplotlib.pyplot as plt\n",
      "import matplotlib as mpl\n",
      "import pyHistogrammer as pyH #this is the new class\n",
      "%matplotlib inline\n",
      "mpl.rcParams.update({'font.size':18.0, 'figure.figsize': [12,8]})"
     ],
     "language": "python",
     "metadata": {},
     "outputs": [],
     "prompt_number": 1
    },
    {
     "cell_type": "markdown",
     "metadata": {},
     "source": [
      "<h2>Lets create a little data for us"
     ]
    },
    {
     "cell_type": "code",
     "collapsed": false,
     "input": [
      "data = np.random.standard_normal(10000)"
     ],
     "language": "python",
     "metadata": {},
     "outputs": [],
     "prompt_number": 2
    },
    {
     "cell_type": "markdown",
     "metadata": {},
     "source": [
      "<h2>Using regular matplotlib routines create a histogram of the data</h2><br>\n",
      "It takes 5 lines of code to create a ledgible histogram"
     ]
    },
    {
     "cell_type": "code",
     "collapsed": false,
     "input": [
      "n2, bins2, patches2 = plt.hist(data, bins=40, range=(-5,5), histtype='stepfilled', color='b', alpha=0.8)\n",
      "patches2[0].axes.set_xlabel('x', position = (1,1), ha='right')\n",
      "patches2[0].axes.set_ylabel('counts / 0.25', position = (1,1), ha='right')\n",
      "patches2[0].axes.set_title('standard normal distribution')\n",
      "patches2[0].axes.set_xlim((-5., 5.))\n",
      "print \"done'"
     ],
     "language": "python",
     "metadata": {},
     "outputs": [
      {
       "ename": "SyntaxError",
       "evalue": "EOL while scanning string literal (<ipython-input-3-70cd6ea58ab0>, line 6)",
       "output_type": "pyerr",
       "traceback": [
        "\u001b[0;36m  File \u001b[0;32m\"<ipython-input-3-70cd6ea58ab0>\"\u001b[0;36m, line \u001b[0;32m6\u001b[0m\n\u001b[0;31m    print \"done'\u001b[0m\n\u001b[0m               ^\u001b[0m\n\u001b[0;31mSyntaxError\u001b[0m\u001b[0;31m:\u001b[0m EOL while scanning string literal\n"
       ]
      }
     ],
     "prompt_number": 3
    },
    {
     "cell_type": "markdown",
     "metadata": {},
     "source": [
      "<h2>using my new wrapper class</h2>\n",
      "using again 5 lines of code we can get 4 histograms"
     ]
    },
    {
     "cell_type": "code",
     "collapsed": false,
     "input": [
      "histo = pyH.histogrammer(nbins=40, range=(-5,5), histtype='stepfilled', color='b', alpha=0.8, xlabel='x',\n",
      "                         ylabel='counts', title='std nrm dist')\n",
      "histo.fillHist(data)\n",
      "histo.fillHist(np.random.standard_normal(5000))\n",
      "histo.fillHist(np.random.standard_normal(1000))\n",
      "histo.fillHist(np.random.standard_normal(500))\n",
      "print \"done\""
     ],
     "language": "python",
     "metadata": {},
     "outputs": [
      {
       "output_type": "stream",
       "stream": "stdout",
       "text": [
        "done\n"
       ]
      },
      {
       "metadata": {},
       "output_type": "display_data",
       "png": "[encoded data removed]",
       "text": [
        "<matplotlib.figure.Figure at 0x7fcce4437e50>"
       ]
      }
     ],
     "prompt_number": 4
    },
    {
     "cell_type": "code",
     "collapsed": false,
     "input": [
      "ex_diff = np.array([2.46, 1.147, 0.633, -0.236, -0.473], np.float)"
     ],
     "language": "python",
     "metadata": {},
     "outputs": [],
     "prompt_number": 6
    },
    {
     "cell_type": "code",
     "collapsed": false,
     "input": [
      "print ex_diff\n",
      "print \"mean:\",ex_diff.mean()\n",
      "print \"variance:\",ex_diff.var()\n",
      "print \"corrected variance:\",ex_diff.var(ddof=1)\n",
      "print \"std dev:\",ex_diff.std()\n",
      "print \"corrected std dev:\",ex_diff.std(ddof=1)\n",
      "ex_diff2 = np.power(ex_diff, 2)\n",
      "print ex_diff2\n",
      "print \"mean x^2:\",ex_diff2.mean()\n",
      "print \"variance:\",ex_diff2.mean() - ex_diff.mean()**2\n",
      "print \"corrected variance:\", len(ex_diff)/float(len(ex_diff)-1) * (ex_diff2.mean() - ex_diff.mean()**2)\n",
      "print \"std dev:\", np.sqrt(ex_diff2.mean() - ex_diff.mean()**2)\n",
      "print \"corrected std dev:\", np.sqrt(len(ex_diff)/float(len(ex_diff)-1) * (ex_diff2.mean() - ex_diff.mean()**2))"
     ],
     "language": "python",
     "metadata": {},
     "outputs": [
      {
       "output_type": "stream",
       "stream": "stdout",
       "text": [
        "[ 2.46   1.147  0.633 -0.236 -0.473]\n",
        "mean: 0.7062\n",
        "variance: 1.11074616\n",
        "corrected variance: 1.3884327\n",
        "std dev: 1.05391942766\n",
        "corrected std dev: 1.17831774153\n",
        "[ 6.0516    1.315609  0.400689  0.055696  0.223729]\n",
        "mean x^2: 1.6094646\n",
        "variance: 1.11074616\n",
        "corrected variance: 1.3884327\n",
        "std dev: 1.05391942766\n",
        "corrected std dev: 1.17831774153\n"
       ]
      }
     ],
     "prompt_number": 14
    }
   ],
   "metadata": {}
  }
 ]
}