{
 "metadata": {
  "name": ""
 },
 "nbformat": 3,
 "nbformat_minor": 0,
 "worksheets": [
  {
   "cells": [
    {
     "cell_type": "code",
     "collapsed": false,
     "input": [
      "import pandas as pd\n",
      "import numpy as np\n",
      "from pyHistogrammer import histogrammer\n",
      "import matplotlib.pyplot as plt\n",
      "import matplotlib as mpl\n",
      "%matplotlib inline\n",
      "mpl.rcParams.update({'font.size':18.0, 'figure.figsize': [12,8]})"
     ],
     "language": "python",
     "metadata": {},
     "outputs": [],
     "prompt_number": 1
    },
    {
     "cell_type": "code",
     "collapsed": false,
     "input": [
      "data = pd.read_csv('studentSimulator_mult1.0_min1.05.csv')\n",
      "print data.head(10)"
     ],
     "language": "python",
     "metadata": {},
     "outputs": [
      {
       "output_type": "stream",
       "stream": "stdout",
       "text": [
        "   errRate    minErr mastered      prob  tries     skill  skill_err\n",
        "0        0  1.053919     True  0.808641      9  3.201323   1.053919\n",
        "1        0  1.053919     True  0.818663      9  3.267435   1.053919\n",
        "2        0  1.053919     True  0.800908      7  3.152101   1.053919\n",
        "3        0  1.053919     True  0.816547      7  3.253248   1.053919\n",
        "4        0  1.053919     True  0.825464      8  3.313936   1.053919\n",
        "5        0  1.053919     True  0.839201      8  3.412413   1.053919\n",
        "6        0  1.053919     True  0.842070      8  3.433831   1.053919\n",
        "7        0  1.053919     True  0.814012      8  3.236412   1.053919\n",
        "8        0  1.053919     True  0.824142      8  3.304783   1.053919\n",
        "9        0  1.053919     True  0.843063      9  3.441317   1.053919\n",
        "\n",
        "[10 rows x 7 columns]\n"
       ]
      }
     ],
     "prompt_number": 6
    },
    {
     "cell_type": "code",
     "collapsed": false,
     "input": [
      "errs = pd.Series.unique(data['errRate'])\n",
      "histo = histogrammer(nbins=50, range=(0,100), alpha=1.0, histtype='stepfilled', label='err', normed=True, cumulative=True)\n",
      "for err in errs:\n",
      "    histo.label = str(err)\n",
      "    cuts = (data.errRate==err) & (data.mastered==True)\n",
      "    edata = data[cuts]['tries']\n",
      "    print err\n",
      "    print edata.describe()\n",
      "    if len(edata) > 0:\n",
      "        histo.fillHist(edata.as_matrix())\n",
      "plt.legend()\n",
      "print"
     ],
     "language": "python",
     "metadata": {},
     "outputs": [
      {
       "output_type": "stream",
       "stream": "stdout",
       "text": [
        "0.0\n",
        "count    100.000000\n",
        "mean       8.940000\n",
        "std        0.951554\n",
        "min        7.000000\n",
        "25%        8.000000\n",
        "50%        9.000000\n",
        "75%        9.000000\n",
        "max       11.000000\n",
        "Name: tries, dtype: float64\n",
        "0.02\n",
        "count    100.000000\n",
        "mean       9.560000\n",
        "std        1.799663\n",
        "min        7.000000\n",
        "25%        8.000000\n",
        "50%        9.000000\n",
        "75%       10.000000\n",
        "max       17.000000\n",
        "Name: tries, dtype: float64\n",
        "0.05\n",
        "count    100.000000\n",
        "mean      10.010000\n",
        "std        2.100962\n",
        "min        7.000000\n",
        "25%        8.000000\n",
        "50%        9.500000\n",
        "75%       11.000000\n",
        "max       17.000000\n",
        "Name: tries, dtype: float64\n",
        "0.1\n",
        "count    100.000000\n",
        "mean      12.040000\n",
        "std        3.631846\n",
        "min        7.000000\n",
        "25%        9.000000\n",
        "50%       11.000000\n",
        "75%       14.000000\n",
        "max       28.000000\n",
        "Name: tries, dtype: float64\n",
        "0.2\n",
        "count    100.00000\n",
        "mean      18.11000\n",
        "std        7.74583\n",
        "min        8.00000\n",
        "25%       11.75000\n",
        "50%       17.00000\n",
        "75%       22.00000\n",
        "max       51.00000\n",
        "Name: tries, dtype: float64\n",
        "0.3\n",
        "count    98.000000\n",
        "mean     27.295918\n",
        "std      14.507879\n",
        "min       7.000000\n",
        "25%      16.250000\n",
        "50%      23.000000\n",
        "75%      38.000000\n",
        "max      90.000000\n",
        "Name: tries, dtype: float64"
       ]
      },
      {
       "output_type": "stream",
       "stream": "stdout",
       "text": [
        "\n",
        "0.5\n",
        "count    26.000000\n",
        "mean     48.807692\n",
        "std      27.377391\n",
        "min      15.000000\n",
        "25%      29.250000\n",
        "50%      37.500000\n",
        "75%      75.000000\n",
        "max      99.000000\n",
        "Name: tries, dtype: float64\n",
        "\n"
       ]
      },
      {
       "metadata": {},
       "output_type": "display_data",
       "png": "[encoded data removed]",
       "text": [
        "<matplotlib.figure.Figure at 0x7f12c3bbbf90>"
       ]
      }
     ],
     "prompt_number": 7
    },
    {
     "cell_type": "code",
     "collapsed": false,
     "input": [],
     "language": "python",
     "metadata": {},
     "outputs": []
    }
   ],
   "metadata": {}
  }
 ]
}